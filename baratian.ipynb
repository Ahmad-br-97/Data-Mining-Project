{
  "nbformat": 4,
  "nbformat_minor": 0,
  "metadata": {
    "colab": {
      "name": "baratian.ipynb",
      "provenance": [],
      "include_colab_link": true
    },
    "kernelspec": {
      "name": "python3",
      "display_name": "Python 3"
    }
  },
  "cells": [
    {
      "cell_type": "markdown",
      "metadata": {
        "id": "view-in-github",
        "colab_type": "text"
      },
      "source": [
        "<a href=\"https://colab.research.google.com/github/Ahmad-br-97/Data-Mining-Project/blob/main/baratian.ipynb\" target=\"_parent\"><img src=\"https://colab.research.google.com/assets/colab-badge.svg\" alt=\"Open In Colab\"/></a>"
      ]
    },
    {
      "cell_type": "code",
      "metadata": {
        "colab": {
          "base_uri": "https://localhost:8080/"
        },
        "id": "4OUZUOel5mT-",
        "outputId": "ce37700d-e445-4b30-f5f2-dd6589518b3d"
      },
      "source": [
        "!pip install stopwords_guilannlp"
      ],
      "execution_count": 1,
      "outputs": [
        {
          "output_type": "stream",
          "text": [
            "Collecting stopwords_guilannlp\n",
            "  Downloading https://files.pythonhosted.org/packages/44/bc/a01c003b59a91187e89d11e73e8bb2834bb9ae6b36fe576a4b617c90bd23/stopwords_guilannlp-13.2019.3.5-py3-none-any.whl\n",
            "Installing collected packages: stopwords-guilannlp\n",
            "Successfully installed stopwords-guilannlp-13.2019.3.5\n"
          ],
          "name": "stdout"
        }
      ]
    },
    {
      "cell_type": "code",
      "metadata": {
        "colab": {
          "base_uri": "https://localhost:8080/"
        },
        "id": "-ASdWYuU5Zo-",
        "outputId": "266d2fed-1f2a-4a05-d2c7-92f067c57527"
      },
      "source": [
        "!pip install hazm"
      ],
      "execution_count": 2,
      "outputs": [
        {
          "output_type": "stream",
          "text": [
            "Collecting hazm\n",
            "\u001b[?25l  Downloading https://files.pythonhosted.org/packages/22/13/5a7074bc11d20dbbb46239349ac3f85f7edc148b4cf68e9b8c2f8263830c/hazm-0.7.0-py3-none-any.whl (316kB)\n",
            "\u001b[K     |████████████████████████████████| 317kB 8.7MB/s \n",
            "\u001b[?25hCollecting libwapiti>=0.2.1; platform_system != \"Windows\"\n",
            "\u001b[?25l  Downloading https://files.pythonhosted.org/packages/bc/0f/1c9b49bb49821b5856a64ea6fac8d96a619b9f291d1f06999ea98a32c89c/libwapiti-0.2.1.tar.gz (233kB)\n",
            "\u001b[K     |████████████████████████████████| 235kB 13.1MB/s \n",
            "\u001b[?25hCollecting nltk==3.3\n",
            "\u001b[?25l  Downloading https://files.pythonhosted.org/packages/50/09/3b1755d528ad9156ee7243d52aa5cd2b809ef053a0f31b53d92853dd653a/nltk-3.3.0.zip (1.4MB)\n",
            "\u001b[K     |████████████████████████████████| 1.4MB 9.8MB/s \n",
            "\u001b[?25hRequirement already satisfied: six in /usr/local/lib/python3.6/dist-packages (from libwapiti>=0.2.1; platform_system != \"Windows\"->hazm) (1.15.0)\n",
            "Building wheels for collected packages: libwapiti, nltk\n",
            "  Building wheel for libwapiti (setup.py) ... \u001b[?25l\u001b[?25hdone\n",
            "  Created wheel for libwapiti: filename=libwapiti-0.2.1-cp36-cp36m-linux_x86_64.whl size=154813 sha256=5ca066c8ef05b9458fc8b5b927cd360d374679b2d850084de8c0a277f1981265\n",
            "  Stored in directory: /root/.cache/pip/wheels/66/15/54/4510dce8bb958b1cdd2c47425cbd1e1eecc0480ac9bb1fb9ab\n",
            "  Building wheel for nltk (setup.py) ... \u001b[?25l\u001b[?25hdone\n",
            "  Created wheel for nltk: filename=nltk-3.3-cp36-none-any.whl size=1394469 sha256=e14d88e24ecd5fb44540f801dde6ca1103ccc3dfc07363ad116555463d84d086\n",
            "  Stored in directory: /root/.cache/pip/wheels/d1/ab/40/3bceea46922767e42986aef7606a600538ca80de6062dc266c\n",
            "Successfully built libwapiti nltk\n",
            "Installing collected packages: libwapiti, nltk, hazm\n",
            "  Found existing installation: nltk 3.2.5\n",
            "    Uninstalling nltk-3.2.5:\n",
            "      Successfully uninstalled nltk-3.2.5\n",
            "Successfully installed hazm-0.7.0 libwapiti-0.2.1 nltk-3.3\n"
          ],
          "name": "stdout"
        }
      ]
    },
    {
      "cell_type": "code",
      "metadata": {
        "colab": {
          "base_uri": "https://localhost:8080/"
        },
        "id": "VklNJqzo5hNt",
        "outputId": "7fa30aec-d4db-4684-919f-de858cdbabd2"
      },
      "source": [
        "!pip install keras\r\n",
        "!pip install nltk"
      ],
      "execution_count": 3,
      "outputs": [
        {
          "output_type": "stream",
          "text": [
            "Requirement already satisfied: keras in /usr/local/lib/python3.6/dist-packages (2.4.3)\n",
            "Requirement already satisfied: h5py in /usr/local/lib/python3.6/dist-packages (from keras) (2.10.0)\n",
            "Requirement already satisfied: scipy>=0.14 in /usr/local/lib/python3.6/dist-packages (from keras) (1.4.1)\n",
            "Requirement already satisfied: numpy>=1.9.1 in /usr/local/lib/python3.6/dist-packages (from keras) (1.19.5)\n",
            "Requirement already satisfied: pyyaml in /usr/local/lib/python3.6/dist-packages (from keras) (3.13)\n",
            "Requirement already satisfied: six in /usr/local/lib/python3.6/dist-packages (from h5py->keras) (1.15.0)\n",
            "Requirement already satisfied: nltk in /usr/local/lib/python3.6/dist-packages (3.3)\n",
            "Requirement already satisfied: six in /usr/local/lib/python3.6/dist-packages (from nltk) (1.15.0)\n"
          ],
          "name": "stdout"
        }
      ]
    },
    {
      "cell_type": "code",
      "metadata": {
        "colab": {
          "base_uri": "https://localhost:8080/"
        },
        "id": "Il4-fa5w7c38",
        "outputId": "c3fd9699-5626-4993-d44e-98acdf304026"
      },
      "source": [
        "import nltk\r\n",
        "nltk.download('punkt')\r\n"
      ],
      "execution_count": 4,
      "outputs": [
        {
          "output_type": "stream",
          "text": [
            "[nltk_data] Downloading package punkt to /root/nltk_data...\n",
            "[nltk_data]   Unzipping tokenizers/punkt.zip.\n"
          ],
          "name": "stdout"
        },
        {
          "output_type": "execute_result",
          "data": {
            "text/plain": [
              "True"
            ]
          },
          "metadata": {
            "tags": []
          },
          "execution_count": 4
        }
      ]
    },
    {
      "cell_type": "code",
      "metadata": {
        "id": "61Rsi7p_7GKQ"
      },
      "source": [
        "import csv\r\n",
        "import tensorflow as tf\r\n",
        "import numpy as np\r\n",
        "from tensorflow.keras.preprocessing.text import Tokenizer\r\n",
        "from tensorflow.keras.preprocessing.sequence import pad_sequences\r\n",
        "from nltk.corpus import stopwords\r\n",
        "from hazm import *\r\n",
        "import re\r\n",
        "from stopwords_guilannlp import *\r\n",
        "import matplotlib.pyplot as plt\r\n",
        "from sklearn.metrics import accuracy_score, precision_score, recall_score, f1_score, confusion_matrix, classification_report\r\n",
        "\r\n",
        "\r\n",
        "STOPWORDS = stopwords_output(\"Persian\",\"nar\")\r\n"
      ],
      "execution_count": 5,
      "outputs": []
    },
    {
      "cell_type": "code",
      "metadata": {
        "id": "c-LcSTts67eD"
      },
      "source": [
        "vocab_size = 500\r\n",
        "embedding_dim = 64\r\n",
        "max_length = 250\r\n",
        "trunc_type = 'post'\r\n",
        "padding_type = 'post'\r\n",
        "oov_tok = '<OOV>'\r\n",
        "training_portion = .8"
      ],
      "execution_count": 6,
      "outputs": []
    },
    {
      "cell_type": "code",
      "metadata": {
        "colab": {
          "base_uri": "https://localhost:8080/"
        },
        "id": "MsIXbn3W67S_",
        "outputId": "64138a4c-5346-477f-f715-ec98547cc338"
      },
      "source": [
        "articles = []\r\n",
        "labels = []\r\n",
        "\r\n",
        "datas=pd.read_excel(\"/content/My_DigiKala_Comments_1.xlsx\")\r\n",
        "for text in datas['comment']:\r\n",
        "    text = ' '.join(word for word in text.split() if word not in STOPWORDS) \r\n",
        "data_classes=['U0001F636', 'U0001F630', 'U0001F9D0', 'U0001F642', 'U0001F648', 'U0001F61B', 'U0001F915', 'U0001F493', 'U0001F620', 'U0001F916']\r\n",
        "d = dict(zip(data_classes, range(0,10)))\r\n",
        "datas['Label']=datas['Label'].map(d, na_action='ignore')\r\n",
        "\r\n",
        "labels=datas['Label']\r\n",
        "articles=datas['comment']\r\n",
        "print(len(labels))\r\n",
        "print(len(articles))"
      ],
      "execution_count": 7,
      "outputs": [
        {
          "output_type": "stream",
          "text": [
            "1999\n",
            "1999\n"
          ],
          "name": "stdout"
        }
      ]
    },
    {
      "cell_type": "code",
      "metadata": {
        "colab": {
          "base_uri": "https://localhost:8080/"
        },
        "id": "0XacqU_R67Im",
        "outputId": "ac9f38c1-f9b3-444e-f1f6-7fb6cd077e90"
      },
      "source": [
        "from sklearn.model_selection import train_test_split\r\n",
        "\r\n",
        "train_articles, validation_articles, train_labels, validation_labels = train_test_split(articles,labels, test_size = 0.20, random_state = 22)\r\n",
        "print(train_articles.shape,validation_articles.shape)\r\n",
        "print(train_labels.shape,validation_labels.shape)"
      ],
      "execution_count": 8,
      "outputs": [
        {
          "output_type": "stream",
          "text": [
            "(1599,) (400,)\n",
            "(1599,) (400,)\n"
          ],
          "name": "stdout"
        }
      ]
    },
    {
      "cell_type": "code",
      "metadata": {
        "colab": {
          "base_uri": "https://localhost:8080/"
        },
        "id": "jebiX-Ox6yFH",
        "outputId": "e8c8e872-b062-4162-b3fd-10ff49ae20a0"
      },
      "source": [
        "tokenizer = Tokenizer(num_words = vocab_size, oov_token=oov_tok)\r\n",
        "tokenizer.fit_on_texts(train_articles)\r\n",
        "word_index = tokenizer.word_index\r\n",
        "dict(list(word_index.items())[0:10])"
      ],
      "execution_count": 9,
      "outputs": [
        {
          "output_type": "execute_result",
          "data": {
            "text/plain": [
              "{'<OOV>': 1,\n",
              " 'از': 4,\n",
              " 'این': 6,\n",
              " 'با': 8,\n",
              " 'به': 5,\n",
              " 'در': 10,\n",
              " 'رو': 9,\n",
              " 'من': 7,\n",
              " 'و': 2,\n",
              " 'که': 3}"
            ]
          },
          "metadata": {
            "tags": []
          },
          "execution_count": 9
        }
      ]
    },
    {
      "cell_type": "code",
      "metadata": {
        "colab": {
          "base_uri": "https://localhost:8080/"
        },
        "id": "p9gAkWgv6x8C",
        "outputId": "a3987a6c-25fb-4e27-d28b-de9d3e3a3c02"
      },
      "source": [
        "train_sequences = tokenizer.texts_to_sequences(train_articles)\r\n",
        "print(train_sequences[10])"
      ],
      "execution_count": 10,
      "outputs": [
        {
          "output_type": "stream",
          "text": [
            "[85, 42, 10, 133, 144, 169]\n"
          ],
          "name": "stdout"
        }
      ]
    },
    {
      "cell_type": "code",
      "metadata": {
        "colab": {
          "base_uri": "https://localhost:8080/"
        },
        "id": "4XwW2CgM6r_j",
        "outputId": "b1e92dba-0c59-49dd-efea-c75c0e5f65a7"
      },
      "source": [
        "train_padded = pad_sequences(train_sequences, maxlen=max_length, padding=padding_type, truncating=trunc_type)\r\n",
        "print(len(train_sequences[0]))\r\n",
        "print(len(train_padded[0]))\r\n",
        "\r\n",
        "print(len(train_sequences[1]))\r\n",
        "print(len(train_padded[1]))\r\n",
        "\r\n",
        "print(len(train_sequences[10]))\r\n",
        "print(len(train_padded[10]))\r\n",
        "train_padded.shape"
      ],
      "execution_count": 11,
      "outputs": [
        {
          "output_type": "stream",
          "text": [
            "30\n",
            "250\n",
            "14\n",
            "250\n",
            "6\n",
            "250\n"
          ],
          "name": "stdout"
        },
        {
          "output_type": "execute_result",
          "data": {
            "text/plain": [
              "(1599, 250)"
            ]
          },
          "metadata": {
            "tags": []
          },
          "execution_count": 11
        }
      ]
    },
    {
      "cell_type": "code",
      "metadata": {
        "colab": {
          "base_uri": "https://localhost:8080/"
        },
        "id": "D1m_SUJr6r5N",
        "outputId": "644b73ae-0126-4637-b971-a3ecf6f104f5"
      },
      "source": [
        "print(train_padded[10])"
      ],
      "execution_count": 12,
      "outputs": [
        {
          "output_type": "stream",
          "text": [
            "[ 85  42  10 133 144 169   0   0   0   0   0   0   0   0   0   0   0   0\n",
            "   0   0   0   0   0   0   0   0   0   0   0   0   0   0   0   0   0   0\n",
            "   0   0   0   0   0   0   0   0   0   0   0   0   0   0   0   0   0   0\n",
            "   0   0   0   0   0   0   0   0   0   0   0   0   0   0   0   0   0   0\n",
            "   0   0   0   0   0   0   0   0   0   0   0   0   0   0   0   0   0   0\n",
            "   0   0   0   0   0   0   0   0   0   0   0   0   0   0   0   0   0   0\n",
            "   0   0   0   0   0   0   0   0   0   0   0   0   0   0   0   0   0   0\n",
            "   0   0   0   0   0   0   0   0   0   0   0   0   0   0   0   0   0   0\n",
            "   0   0   0   0   0   0   0   0   0   0   0   0   0   0   0   0   0   0\n",
            "   0   0   0   0   0   0   0   0   0   0   0   0   0   0   0   0   0   0\n",
            "   0   0   0   0   0   0   0   0   0   0   0   0   0   0   0   0   0   0\n",
            "   0   0   0   0   0   0   0   0   0   0   0   0   0   0   0   0   0   0\n",
            "   0   0   0   0   0   0   0   0   0   0   0   0   0   0   0   0   0   0\n",
            "   0   0   0   0   0   0   0   0   0   0   0   0   0   0   0   0]\n"
          ],
          "name": "stdout"
        }
      ]
    },
    {
      "cell_type": "code",
      "metadata": {
        "colab": {
          "base_uri": "https://localhost:8080/"
        },
        "id": "zJePDcs86oi8",
        "outputId": "34c9e096-1141-41ab-de3b-4b0db8ea309f"
      },
      "source": [
        "validation_sequences = tokenizer.texts_to_sequences(validation_articles)\r\n",
        "validation_padded = pad_sequences(validation_sequences, maxlen=max_length, padding=padding_type, truncating=trunc_type)\r\n",
        "\r\n",
        "print(len(validation_sequences))\r\n",
        "print(validation_padded.shape)\r\n"
      ],
      "execution_count": 13,
      "outputs": [
        {
          "output_type": "stream",
          "text": [
            "400\n",
            "(400, 250)\n"
          ],
          "name": "stdout"
        }
      ]
    },
    {
      "cell_type": "code",
      "metadata": {
        "colab": {
          "base_uri": "https://localhost:8080/"
        },
        "id": "hEPlkMErNpXE",
        "outputId": "48930db1-b75a-473e-eeb6-4b340d054aa8"
      },
      "source": [
        "train_labels"
      ],
      "execution_count": 14,
      "outputs": [
        {
          "output_type": "execute_result",
          "data": {
            "text/plain": [
              "417     3\n",
              "716     9\n",
              "1495    9\n",
              "1414    3\n",
              "757     7\n",
              "       ..\n",
              "356     3\n",
              "960     1\n",
              "812     3\n",
              "132     5\n",
              "885     7\n",
              "Name: Label, Length: 1599, dtype: int64"
            ]
          },
          "metadata": {
            "tags": []
          },
          "execution_count": 14
        }
      ]
    },
    {
      "cell_type": "code",
      "metadata": {
        "id": "aApdYWnc6fqW"
      },
      "source": [
        "\r\n",
        "training_label_seq = train_labels\r\n",
        "validation_label_seq =validation_labels\r\n",
        "#print(training_label_seq.shape)\r\n",
        "#print(validation_label_seq.shape)\r\n"
      ],
      "execution_count": 15,
      "outputs": []
    },
    {
      "cell_type": "code",
      "metadata": {
        "colab": {
          "base_uri": "https://localhost:8080/"
        },
        "id": "uMQkmlsq6fmi",
        "outputId": "5e4c2885-5172-4b8b-85e7-caf51c1b51bd"
      },
      "source": [
        "reverse_word_index = dict([(value, key) for (key, value) in word_index.items()])\r\n",
        "\r\n",
        "def decode_article(text):\r\n",
        "    return ' '.join([reverse_word_index.get(i, '?') for i in text])\r\n",
        "print(decode_article(train_padded[10]))\r\n",
        "print('---')\r\n",
        "print(train_articles[10])"
      ],
      "execution_count": 16,
      "outputs": [
        {
          "output_type": "stream",
          "text": [
            "ارزش خرید در شگفت انگیز دارد ? ? ? ? ? ? ? ? ? ? ? ? ? ? ? ? ? ? ? ? ? ? ? ? ? ? ? ? ? ? ? ? ? ? ? ? ? ? ? ? ? ? ? ? ? ? ? ? ? ? ? ? ? ? ? ? ? ? ? ? ? ? ? ? ? ? ? ? ? ? ? ? ? ? ? ? ? ? ? ? ? ? ? ? ? ? ? ? ? ? ? ? ? ? ? ? ? ? ? ? ? ? ? ? ? ? ? ? ? ? ? ? ? ? ? ? ? ? ? ? ? ? ? ? ? ? ? ? ? ? ? ? ? ? ? ? ? ? ? ? ? ? ? ? ? ? ? ? ? ? ? ? ? ? ? ? ? ? ? ? ? ? ? ? ? ? ? ? ? ? ? ? ? ? ? ? ? ? ? ? ? ? ? ? ? ? ? ? ? ? ? ? ? ? ? ? ? ? ? ? ? ? ? ? ? ? ? ? ? ? ? ? ? ? ? ? ? ? ? ? ? ? ? ? ? ? ? ? ? ? ? ? ? ? ? ? ? ? ? ? ? ? ? ?\n",
            "---\n",
            "گوشی خوبیه ولی هواوی میت 10پرو از این بهتره قیمتشم مناسبه اینو به کسایی که اسم چین براشون ازار دهنده نیست پیشنهاد میکنم\n"
          ],
          "name": "stdout"
        }
      ]
    },
    {
      "cell_type": "code",
      "metadata": {
        "colab": {
          "base_uri": "https://localhost:8080/"
        },
        "id": "u-4c3T9A6flU",
        "outputId": "32c8a82e-50df-419b-e877-e7f1dcee4e60"
      },
      "source": [
        "model = tf.keras.Sequential([\r\n",
        "    # Add an Embedding layer expecting input vocab of size 5000, and output embedding dimension of size 64 we set at the top\r\n",
        "    tf.keras.layers.Embedding(vocab_size, embedding_dim),\r\n",
        "    tf.keras.layers.Bidirectional(tf.keras.layers.LSTM(embedding_dim)),\r\n",
        "#    tf.keras.layers.Bidirectional(tf.keras.layers.LSTM(32)),\r\n",
        "    # use ReLU in place of tanh function since they are very good alternatives of each other.\r\n",
        "    tf.keras.layers.Dense(embedding_dim, activation='relu'),\r\n",
        "    # Add a Dense layer with 6 units and softmax activation.\r\n",
        "    # When we have multiple outputs, softmax convert outputs layers into a probability distribution.\r\n",
        "    tf.keras.layers.Dense(10, activation='softmax')\r\n",
        "])\r\n",
        "model.summary()"
      ],
      "execution_count": 17,
      "outputs": [
        {
          "output_type": "stream",
          "text": [
            "Model: \"sequential\"\n",
            "_________________________________________________________________\n",
            "Layer (type)                 Output Shape              Param #   \n",
            "=================================================================\n",
            "embedding (Embedding)        (None, None, 64)          32000     \n",
            "_________________________________________________________________\n",
            "bidirectional (Bidirectional (None, 128)               66048     \n",
            "_________________________________________________________________\n",
            "dense (Dense)                (None, 64)                8256      \n",
            "_________________________________________________________________\n",
            "dense_1 (Dense)              (None, 10)                650       \n",
            "=================================================================\n",
            "Total params: 106,954\n",
            "Trainable params: 106,954\n",
            "Non-trainable params: 0\n",
            "_________________________________________________________________\n"
          ],
          "name": "stdout"
        }
      ]
    },
    {
      "cell_type": "code",
      "metadata": {
        "id": "y59EoQH1Rrx1"
      },
      "source": [
        "from keras.utils import to_categorical\r\n",
        "training_label_seq = to_categorical(training_label_seq, 10)\r\n",
        "validation_label_seq = to_categorical(validation_label_seq, 10)"
      ],
      "execution_count": 18,
      "outputs": []
    },
    {
      "cell_type": "code",
      "metadata": {
        "colab": {
          "base_uri": "https://localhost:8080/"
        },
        "id": "PDe97jlk6ZIj",
        "outputId": "e8f96bd7-5eee-4fea-c92a-b3d4b5ed9670"
      },
      "source": [
        "model.compile(loss='categorical_crossentropy', optimizer='adam', metrics=['accuracy'])\r\n",
        "num_epochs = 20\r\n",
        "history = model.fit(train_padded, training_label_seq, epochs=num_epochs, validation_data=(validation_padded, validation_label_seq), verbose=2)"
      ],
      "execution_count": 19,
      "outputs": [
        {
          "output_type": "stream",
          "text": [
            "Epoch 1/20\n",
            "50/50 - 15s - loss: 2.0899 - accuracy: 0.2720 - val_loss: 2.0414 - val_accuracy: 0.2800\n",
            "Epoch 2/20\n",
            "50/50 - 11s - loss: 1.9641 - accuracy: 0.2983 - val_loss: 1.9322 - val_accuracy: 0.3150\n",
            "Epoch 3/20\n",
            "50/50 - 11s - loss: 1.7516 - accuracy: 0.3940 - val_loss: 1.7757 - val_accuracy: 0.4050\n",
            "Epoch 4/20\n",
            "50/50 - 11s - loss: 1.4248 - accuracy: 0.5278 - val_loss: 1.5812 - val_accuracy: 0.4925\n",
            "Epoch 5/20\n",
            "50/50 - 11s - loss: 1.1593 - accuracy: 0.6573 - val_loss: 1.4919 - val_accuracy: 0.5325\n",
            "Epoch 6/20\n",
            "50/50 - 11s - loss: 1.0130 - accuracy: 0.6942 - val_loss: 1.4787 - val_accuracy: 0.5550\n",
            "Epoch 7/20\n",
            "50/50 - 11s - loss: 0.8609 - accuracy: 0.7323 - val_loss: 1.5320 - val_accuracy: 0.5600\n",
            "Epoch 8/20\n",
            "50/50 - 11s - loss: 0.7723 - accuracy: 0.7486 - val_loss: 1.5226 - val_accuracy: 0.5800\n",
            "Epoch 9/20\n",
            "50/50 - 11s - loss: 0.6780 - accuracy: 0.7849 - val_loss: 1.5782 - val_accuracy: 0.5650\n",
            "Epoch 10/20\n",
            "50/50 - 11s - loss: 0.5991 - accuracy: 0.8111 - val_loss: 1.5910 - val_accuracy: 0.5825\n",
            "Epoch 11/20\n",
            "50/50 - 11s - loss: 0.5679 - accuracy: 0.8224 - val_loss: 1.6370 - val_accuracy: 0.5725\n",
            "Epoch 12/20\n",
            "50/50 - 11s - loss: 0.5139 - accuracy: 0.8361 - val_loss: 1.7702 - val_accuracy: 0.5525\n",
            "Epoch 13/20\n",
            "50/50 - 11s - loss: 0.4706 - accuracy: 0.8455 - val_loss: 1.8188 - val_accuracy: 0.5550\n",
            "Epoch 14/20\n",
            "50/50 - 11s - loss: 0.4496 - accuracy: 0.8549 - val_loss: 1.9544 - val_accuracy: 0.5525\n",
            "Epoch 15/20\n",
            "50/50 - 11s - loss: 0.4132 - accuracy: 0.8630 - val_loss: 1.9967 - val_accuracy: 0.5475\n",
            "Epoch 16/20\n",
            "50/50 - 11s - loss: 0.3775 - accuracy: 0.8874 - val_loss: 2.0267 - val_accuracy: 0.5425\n",
            "Epoch 17/20\n",
            "50/50 - 11s - loss: 0.3534 - accuracy: 0.8918 - val_loss: 2.1941 - val_accuracy: 0.5300\n",
            "Epoch 18/20\n",
            "50/50 - 11s - loss: 0.3090 - accuracy: 0.9081 - val_loss: 2.3288 - val_accuracy: 0.5400\n",
            "Epoch 19/20\n",
            "50/50 - 11s - loss: 0.3004 - accuracy: 0.9131 - val_loss: 2.3217 - val_accuracy: 0.5175\n",
            "Epoch 20/20\n",
            "50/50 - 11s - loss: 0.3235 - accuracy: 0.8968 - val_loss: 2.3618 - val_accuracy: 0.5075\n"
          ],
          "name": "stdout"
        }
      ]
    },
    {
      "cell_type": "code",
      "metadata": {
        "colab": {
          "base_uri": "https://localhost:8080/",
          "height": 541
        },
        "id": "XIvj69TD6V9y",
        "outputId": "2f56edba-9961-46af-f25f-a7436d52b434"
      },
      "source": [
        "def plot_graphs(history, string):\r\n",
        "  plt.plot(history.history[string])\r\n",
        "  plt.plot(history.history['val_'+string])\r\n",
        "  plt.xlabel(\"Epochs\")\r\n",
        "  plt.ylabel(string)\r\n",
        "  plt.legend([string, 'val_'+string])\r\n",
        "  plt.show()\r\n",
        "  \r\n",
        "plot_graphs(history, \"accuracy\")\r\n",
        "plot_graphs(history, \"loss\")"
      ],
      "execution_count": 20,
      "outputs": [
        {
          "output_type": "display_data",
          "data": {
            "image/png": "[encoded data removed]",
            "text/plain": [
              "<Figure size 432x288 with 1 Axes>"
            ]
          },
          "metadata": {
            "tags": [],
            "needs_background": "light"
          }
        },
        {
          "output_type": "display_data",
          "data": {
            "image/png": "[encoded data removed]",
            "text/plain": [
              "<Figure size 432x288 with 1 Axes>"
            ]
          },
          "metadata": {
            "tags": [],
            "needs_background": "light"
          }
        }
      ]
    },
    {
      "cell_type": "code",
      "metadata": {
        "id": "GXIZtlXyF3du"
      },
      "source": [
        "Y_pred = model.predict(validation_padded)\r\n"
      ],
      "execution_count": 21,
      "outputs": []
    },
    {
      "cell_type": "code",
      "metadata": {
        "colab": {
          "base_uri": "https://localhost:8080/"
        },
        "id": "YaCRz0rkGW_8",
        "outputId": "8e97092e-e91e-441c-c167-ac81ae73206b"
      },
      "source": [
        "Y_pred = np.argmax(Y_pred, axis=1)\r\n",
        "Y_test = np.argmax(validation_label_seq, axis=1)\r\n",
        "\r\n",
        "print(classification_report(Y_test, Y_pred))"
      ],
      "execution_count": 22,
      "outputs": [
        {
          "output_type": "stream",
          "text": [
            "              precision    recall  f1-score   support\n",
            "\n",
            "           0       0.43      0.58      0.49        36\n",
            "           1       0.44      0.43      0.44        37\n",
            "           2       0.00      0.00      0.00        14\n",
            "           3       0.68      0.61      0.64       112\n",
            "           4       0.00      0.00      0.00        17\n",
            "           5       0.61      0.63      0.62        70\n",
            "           6       0.12      0.44      0.19         9\n",
            "           7       0.64      0.57      0.60        44\n",
            "           8       0.00      0.00      0.00        11\n",
            "           9       0.46      0.50      0.48        50\n",
            "\n",
            "    accuracy                           0.51       400\n",
            "   macro avg       0.34      0.38      0.35       400\n",
            "weighted avg       0.51      0.51      0.50       400\n",
            "\n"
          ],
          "name": "stdout"
        }
      ]
    }
  ]
}